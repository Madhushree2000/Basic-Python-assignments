{
 "cells": [
  {
   "cell_type": "markdown",
   "metadata": {},
   "source": [
    "Q4. Write a program to simulate MLP with back propagation algorithm over following problems: a approximate function -\n",
    "g(p) = 1+ sin(πp/4) where -5<p<5"
   ]
  },
  {
   "cell_type": "code",
   "execution_count": 127,
   "metadata": {},
   "outputs": [],
   "source": [
    "import matplotlib.pyplot as plt\n",
    "from numpy import *"
   ]
  },
  {
   "cell_type": "code",
   "execution_count": 128,
   "metadata": {},
   "outputs": [],
   "source": [
    "def purelin(net):\n",
    "    return(net)"
   ]
  },
  {
   "cell_type": "code",
   "execution_count": 129,
   "metadata": {},
   "outputs": [],
   "source": [
    "def logsig(net):\n",
    "    l = 1 + exp(-net)\n",
    "    return(1/l)"
   ]
  },
  {
   "cell_type": "code",
   "execution_count": 130,
   "metadata": {},
   "outputs": [],
   "source": [
    "def derlogsig(n):\n",
    "    ans = -exp(-n) / (1 + exp(-n)**2)\n",
    "    return ans"
   ]
  },
  {
   "cell_type": "code",
   "execution_count": 131,
   "metadata": {},
   "outputs": [],
   "source": [
    "def neuron(a,w,b):\n",
    "    net = dot(a,w.T) + b\n",
    "    return net"
   ]
  },
  {
   "cell_type": "code",
   "execution_count": 132,
   "metadata": {},
   "outputs": [],
   "source": [
    "def update(w,b,alpha,s,a):\n",
    "    w = w - alpha * s * a.T\n",
    "    b = b - alpha * s\n",
    "    return(w,b)"
   ]
  },
  {
   "cell_type": "code",
   "execution_count": 133,
   "metadata": {},
   "outputs": [],
   "source": [
    "w1 = array([-0.27,0.41])\n",
    "w2 = array([0.09,-0.17])\n",
    "b1 = array([-0.48,-0.13])\n",
    "b2 = array([0.48])\n",
    "error = []\n",
    "a = 1"
   ]
  },
  {
   "cell_type": "code",
   "execution_count": 134,
   "metadata": {},
   "outputs": [],
   "source": [
    "for _ in range(10):\n",
    "    net1 = neuron(a,w1,b1)\n",
    "    a1 = logsig(net1)\n",
    "    net2= neuron(a1,w2,b2)\n",
    "    a2 = purelin(net2)\n",
    "    e = (1 + sin(pi / 4 * 1)) - a2\n",
    "    s2 = -2 * 1 * e\n",
    "    d_a1 = derlogsig(a1)\n",
    "    s1 = diag(d_a1) * w2.T * s2\n",
    "    w1,b1 = update(w1,b1,0.1,s1,a1)\n",
    "    w2,b2 = update(w2,b2,0.1,s2,a2)\n",
    "    error = error + [e]\n"
   ]
  },
  {
   "cell_type": "code",
   "execution_count": 135,
   "metadata": {},
   "outputs": [
    {
     "data": {
      "text/plain": [
       "[array([1.29505572]),\n",
       " array([0.93100021, 0.9096701 ]),\n",
       " array([0.642407  , 0.57545478]),\n",
       " array([0.42238222, 0.32255254]),\n",
       " array([0.2731735 , 0.15905093]),\n",
       " array([0.17911703, 0.06570535]),\n",
       " array([0.12134863, 0.01732422]),\n",
       " array([ 0.08551298, -0.00550125]),\n",
       " array([ 0.06255043, -0.01485594]),\n",
       " array([ 0.047188  , -0.01751778])]"
      ]
     },
     "execution_count": 135,
     "metadata": {},
     "output_type": "execute_result"
    }
   ],
   "source": [
    "error"
   ]
  },
  {
   "cell_type": "code",
   "execution_count": 136,
   "metadata": {},
   "outputs": [],
   "source": [
    "mse_list = []\n",
    "for i in error:\n",
    "    se = dot(i,i.T)\n",
    "    mse = se/ len(i)\n",
    "    mse_list.append(mse)\n"
   ]
  },
  {
   "cell_type": "code",
   "execution_count": 137,
   "metadata": {},
   "outputs": [
    {
     "data": {
      "image/png": "[encoded data removed]",
      "text/plain": [
       "<Figure size 432x288 with 1 Axes>"
      ]
     },
     "metadata": {
      "needs_background": "light"
     },
     "output_type": "display_data"
    }
   ],
   "source": [
    "plt.plot(mse_list, 'r.-')\n",
    "plt.grid(True)\n",
    "plt.xlabel('epoch')\n",
    "plt.ylabel('Error')\n",
    "plt.draw()\n",
    "plt.show()"
   ]
  }
 ],
 "metadata": {
  "interpreter": {
   "hash": "207c0d44758c6669a77097a940d54e0c958e1873e8368d84e343a511989e3c6f"
  },
  "kernelspec": {
   "display_name": "Python 3.8.8 ('base')",
   "language": "python",
   "name": "python3"
  },
  "language_info": {
   "codemirror_mode": {
    "name": "ipython",
    "version": 3
   },
   "file_extension": ".py",
   "mimetype": "text/x-python",
   "name": "python",
   "nbconvert_exporter": "python",
   "pygments_lexer": "ipython3",
   "version": "3.8.8"
  },
  "orig_nbformat": 4
 },
 "nbformat": 4,
 "nbformat_minor": 2
}

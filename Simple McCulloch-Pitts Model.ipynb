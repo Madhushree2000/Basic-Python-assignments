{
 "cells": [
  {
   "cell_type": "code",
   "execution_count": 1,
   "metadata": {},
   "outputs": [],
   "source": [
    "from numpy import *\n",
    "import pandas as pd\n",
    "import matplotlib.pyplot as plt"
   ]
  },
  {
   "cell_type": "code",
   "execution_count": 2,
   "metadata": {},
   "outputs": [],
   "source": [
    "def hardlim(net):\n",
    "    if net >= 0:\n",
    "        return 1\n",
    "    else:\n",
    "        return 0"
   ]
  },
  {
   "cell_type": "code",
   "execution_count": 3,
   "metadata": {},
   "outputs": [],
   "source": [
    "def logsig(net):\n",
    "    a = 1 + exp(-net)\n",
    "    return(1/a)"
   ]
  },
  {
   "cell_type": "code",
   "execution_count": 4,
   "metadata": {},
   "outputs": [],
   "source": [
    "def tansig(net):\n",
    "    try:\n",
    "        a1 = exp(net) - exp(-net)\n",
    "        a2 = exp(net) + exp(-net)\n",
    "        return(a1/a2)\n",
    "    except OverflowError:\n",
    "        return(0)\n",
    "    "
   ]
  },
  {
   "cell_type": "code",
   "execution_count": 5,
   "metadata": {},
   "outputs": [
    {
     "data": {
      "text/html": [
       "<div>\n",
       "<style scoped>\n",
       "    .dataframe tbody tr th:only-of-type {\n",
       "        vertical-align: middle;\n",
       "    }\n",
       "\n",
       "    .dataframe tbody tr th {\n",
       "        vertical-align: top;\n",
       "    }\n",
       "\n",
       "    .dataframe thead th {\n",
       "        text-align: right;\n",
       "    }\n",
       "</style>\n",
       "<table border=\"1\" class=\"dataframe\">\n",
       "  <thead>\n",
       "    <tr style=\"text-align: right;\">\n",
       "      <th></th>\n",
       "      <th>5.1</th>\n",
       "      <th>3.5</th>\n",
       "      <th>1.4</th>\n",
       "      <th>0.2</th>\n",
       "      <th>Iris-setosa</th>\n",
       "    </tr>\n",
       "  </thead>\n",
       "  <tbody>\n",
       "    <tr>\n",
       "      <th>0</th>\n",
       "      <td>4.9</td>\n",
       "      <td>3.0</td>\n",
       "      <td>1.4</td>\n",
       "      <td>0.2</td>\n",
       "      <td>Iris-setosa</td>\n",
       "    </tr>\n",
       "    <tr>\n",
       "      <th>1</th>\n",
       "      <td>4.7</td>\n",
       "      <td>3.2</td>\n",
       "      <td>1.3</td>\n",
       "      <td>0.2</td>\n",
       "      <td>Iris-setosa</td>\n",
       "    </tr>\n",
       "    <tr>\n",
       "      <th>2</th>\n",
       "      <td>4.6</td>\n",
       "      <td>3.1</td>\n",
       "      <td>1.5</td>\n",
       "      <td>0.2</td>\n",
       "      <td>Iris-setosa</td>\n",
       "    </tr>\n",
       "    <tr>\n",
       "      <th>3</th>\n",
       "      <td>5.0</td>\n",
       "      <td>3.6</td>\n",
       "      <td>1.4</td>\n",
       "      <td>0.2</td>\n",
       "      <td>Iris-setosa</td>\n",
       "    </tr>\n",
       "    <tr>\n",
       "      <th>4</th>\n",
       "      <td>5.4</td>\n",
       "      <td>3.9</td>\n",
       "      <td>1.7</td>\n",
       "      <td>0.4</td>\n",
       "      <td>Iris-setosa</td>\n",
       "    </tr>\n",
       "  </tbody>\n",
       "</table>\n",
       "</div>"
      ],
      "text/plain": [
       "   5.1  3.5  1.4  0.2  Iris-setosa\n",
       "0  4.9  3.0  1.4  0.2  Iris-setosa\n",
       "1  4.7  3.2  1.3  0.2  Iris-setosa\n",
       "2  4.6  3.1  1.5  0.2  Iris-setosa\n",
       "3  5.0  3.6  1.4  0.2  Iris-setosa\n",
       "4  5.4  3.9  1.7  0.4  Iris-setosa"
      ]
     },
     "execution_count": 5,
     "metadata": {},
     "output_type": "execute_result"
    }
   ],
   "source": [
    "iris = pd.read_csv('iris.data')\n",
    "X = array(iris)[:,0:3]\n",
    "iris.head()"
   ]
  },
  {
   "cell_type": "code",
   "execution_count": 6,
   "metadata": {},
   "outputs": [],
   "source": [
    "def mcpitts(X):\n",
    "\n",
    "    net = 0\n",
    "    global AO1;\n",
    "    global AO2;\n",
    "    global AO3;\n",
    "\n",
    "    AO1 = []\n",
    "    AO2 = []\n",
    "    AO3 = []\n",
    "\n",
    "    for i in range(0,len(X)):\n",
    "\n",
    "        #random weights\n",
    "        w = random.rand(4)\n",
    "        \n",
    "        #1. calculating net value\n",
    "        for j in range(0,len(X[i])):\n",
    "             net = net + (X[i][j] * w[j])\n",
    "\n",
    "        #2. Activation/Transfer function\n",
    "        ao1 = hardlim(net)\n",
    "        ao2 = logsig(net)\n",
    "        ao3 = tansig(net)\n",
    "\n",
    "        AO1.append(ao1)\n",
    "        AO2.append(ao2)\n",
    "        AO3.append(ao3)\n",
    "\n",
    "    \n",
    "    return\n"
   ]
  },
  {
   "cell_type": "code",
   "execution_count": 7,
   "metadata": {},
   "outputs": [
    {
     "name": "stderr",
     "output_type": "stream",
     "text": [
      "/var/folders/80/pw4k9yx11bn2l9rhw7d3s0qc0000gn/T/ipykernel_55865/4139214797.py:3: RuntimeWarning: overflow encountered in exp\n",
      "  a1 = exp(net) - exp(-net)\n",
      "/var/folders/80/pw4k9yx11bn2l9rhw7d3s0qc0000gn/T/ipykernel_55865/4139214797.py:4: RuntimeWarning: overflow encountered in exp\n",
      "  a2 = exp(net) + exp(-net)\n",
      "/var/folders/80/pw4k9yx11bn2l9rhw7d3s0qc0000gn/T/ipykernel_55865/4139214797.py:5: RuntimeWarning: invalid value encountered in double_scalars\n",
      "  return(a1/a2)\n"
     ]
    },
    {
     "data": {
      "image/png": "[encoded data removed]",
      "text/plain": [
       "<Figure size 432x288 with 3 Axes>"
      ]
     },
     "metadata": {
      "needs_background": "light"
     },
     "output_type": "display_data"
    }
   ],
   "source": [
    "mcpitts(X)\n",
    "plt.subplot(1,3,1)\n",
    "plt.hist(AO1,bins= 5)\n",
    "plt.title('Hard Lim')\n",
    "\n",
    "plt.subplot(1,3,2)\n",
    "plt.hist(AO2, bins=5)\n",
    "plt.title('Log Sigmoidal')\n",
    "\n",
    "plt.subplot(1,3,3)\n",
    "plt.hist(AO3, bins= 5)\n",
    "plt.title('Tan Sigmoidal')\n",
    "\n",
    "plt.tight_layout()\n",
    "\n",
    "plt.show()"
   ]
  }
 ],
 "metadata": {
  "interpreter": {
   "hash": "207c0d44758c6669a77097a940d54e0c958e1873e8368d84e343a511989e3c6f"
  },
  "kernelspec": {
   "display_name": "Python 3.8.8 ('base')",
   "language": "python",
   "name": "python3"
  },
  "language_info": {
   "codemirror_mode": {
    "name": "ipython",
    "version": 3
   },
   "file_extension": ".py",
   "mimetype": "text/x-python",
   "name": "python",
   "nbconvert_exporter": "python",
   "pygments_lexer": "ipython3",
   "version": "3.8.8"
  },
  "orig_nbformat": 4
 },
 "nbformat": 4,
 "nbformat_minor": 2
}

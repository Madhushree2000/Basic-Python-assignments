{
 "cells": [
  {
   "cell_type": "code",
   "execution_count": null,
   "id": "c248b830",
   "metadata": {},
   "outputs": [],
   "source": [
    "import pandas as pd\n",
    "from numpy import *\n",
    "import matplotlib.pyplot as plt"
   ]
  },
  {
   "cell_type": "code",
   "execution_count": null,
   "id": "94244b87",
   "metadata": {},
   "outputs": [],
   "source": [
    "def singleNeuron(xx, yy):     \n",
    "    ww= [0,0,0,0]\n",
    "    weight = matrix(ww)\n",
    "    b = matrix([0])\n",
    "    temp_err = []\n",
    "\n",
    "    \n",
    "    for pat, tar in zip(xx, yy):\n",
    "        pat = matrix(pat)\n",
    "        tar = matrix(tar)\n",
    "        net = weight*pat.T + b\n",
    "        ao = tf(net)\n",
    "\n",
    "        \n",
    "        error = (tar - ao).tolist()[0][0]\n",
    "        temp_err.append(error)\n",
    "        alpha = 1\n",
    "        \n",
    "        if error <0:\n",
    "            weight=weight - alpha*pat\n",
    "            b = b + alpha*error\n",
    "        elif error > 0:\n",
    "            weight=weight + alpha*pat\n",
    "            b = b + alpha*error\n",
    "        elif error == 0:\n",
    "            weight = weight\n",
    "            b = b\n",
    "        print(\"\\nWeight=\", weight)\n",
    "        print(\"\\nError=\", error)\n",
    "    return temp_err\n",
    "    "
   ]
  },
  {
   "cell_type": "code",
   "execution_count": null,
   "id": "7a802617",
   "metadata": {},
   "outputs": [],
   "source": []
  }
 ],
 "metadata": {
  "kernelspec": {
   "display_name": "Python 3.8.8 64-bit ('base': conda)",
   "language": "python",
   "name": "python388jvsc74a57bd0207c0d44758c6669a77097a940d54e0c958e1873e8368d84e343a511989e3c6f"
  },
  "language_info": {
   "codemirror_mode": {
    "name": "ipython",
    "version": 3
   },
   "file_extension": ".py",
   "mimetype": "text/x-python",
   "name": "python",
   "nbconvert_exporter": "python",
   "pygments_lexer": "ipython3",
   "version": "3.8.8"
  }
 },
 "nbformat": 4,
 "nbformat_minor": 5
}

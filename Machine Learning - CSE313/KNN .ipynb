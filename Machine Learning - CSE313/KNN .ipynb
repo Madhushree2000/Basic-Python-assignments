{
 "cells": [
  {
   "cell_type": "code",
   "execution_count": 13,
   "id": "11c84df5",
   "metadata": {},
   "outputs": [],
   "source": [
    "from sklearn. neighbors import KNeighborsClassifier\n",
    "from sklearn.model_selection import train_test_split\n",
    "from sklearn.metrics import confusion_matrix, accuracy_score, roc_curve, classification_report\n",
    "import numpy as np\n",
    "import pandas as pd\n",
    "import matplotlib.pyplot as plt"
   ]
  },
  {
   "cell_type": "code",
   "execution_count": 19,
   "id": "83e78ce7",
   "metadata": {},
   "outputs": [],
   "source": [
    "iris = pd.read_csv('iris.csv')\n",
    "wine = pd.read_csv('wine.csv')"
   ]
  },
  {
   "cell_type": "code",
   "execution_count": 20,
   "id": "3d9fe801",
   "metadata": {},
   "outputs": [],
   "source": [
    "X1 = iris.iloc[:,1:5].to_numpy()\n",
    "Lable1 = iris.iloc[:,0].to_numpy()\n",
    "Y1 = []\n",
    "\n",
    "for i in Lable:\n",
    "    if i == 'Iris-setosa':\n",
    "        Y1.append(1)\n",
    "    elif i == 'Iris-versicolor':\n",
    "        Y1.append(2)\n",
    "    else:\n",
    "        Y1.append(3)\n",
    "\n"
   ]
  },
  {
   "cell_type": "code",
   "execution_count": 21,
   "id": "44ad89c1",
   "metadata": {},
   "outputs": [],
   "source": [
    "X2 = wine.iloc[:,1:12].to_numpy()\n",
    "Lable2 = wine.iloc[:,0].to_numpy()\n",
    "Y2 = []\n",
    "\n",
    "for i in Lable:\n",
    "    if i == 1:\n",
    "        Y2.append(1)\n",
    "    elif i == 2:\n",
    "        Y2.append(2)\n",
    "    else:\n",
    "        Y2.append(3)"
   ]
  },
  {
   "cell_type": "code",
   "execution_count": 24,
   "id": "f1d07a0f",
   "metadata": {},
   "outputs": [],
   "source": [
    "def knnfunc(X,Y):\n",
    "    X_train, X_test, Y_train, Y_test = train_test_split(X, Y, test_size = 0.2, random_state=42)\n",
    "    knnb = KNeighborsClassifier(n_neighbors=2)\n",
    "    knnb.fit(X_train, Y_train)\n",
    "    pred = knnb.predict(X_test)\n",
    "    print (confusion_matrix(Y_test, pred))\n",
    "    print (classification_report(Y_test, pred))\n",
    "    return (Y_test, pred)"
   ]
  },
  {
   "cell_type": "code",
   "execution_count": 27,
   "id": "72a424af",
   "metadata": {},
   "outputs": [
    {
     "name": "stdout",
     "output_type": "stream",
     "text": [
      "[[10  0  0]\n",
      " [ 0  9  0]\n",
      " [ 0  0 11]]\n",
      "              precision    recall  f1-score   support\n",
      "\n",
      "           1       1.00      1.00      1.00        10\n",
      "           2       1.00      1.00      1.00         9\n",
      "           3       1.00      1.00      1.00        11\n",
      "\n",
      "    accuracy                           1.00        30\n",
      "   macro avg       1.00      1.00      1.00        30\n",
      "weighted avg       1.00      1.00      1.00        30\n",
      "\n"
     ]
    },
    {
     "data": {
      "image/png": "[encoded data removed]",
      "text/plain": [
       "<Figure size 432x288 with 1 Axes>"
      ]
     },
     "metadata": {
      "needs_background": "light"
     },
     "output_type": "display_data"
    }
   ],
   "source": [
    "plt.subplot()\n",
    "plt.title('IRIS Dataset')\n",
    "Y_test, pred = knnfunc(X1,Y1)\n",
    "plt.scatter(Y_test, pred, c = \"#FE642E\")\n",
    "plt.plot(Y_test, pred, c = \"#FE642F\")\n",
    "plt.xlabel('Y_test')\n",
    "plt.ylabel('pred')\n",
    "plt.show()"
   ]
  },
  {
   "cell_type": "code",
   "execution_count": null,
   "id": "c084681a",
   "metadata": {},
   "outputs": [],
   "source": []
  }
 ],
 "metadata": {
  "kernelspec": {
   "display_name": "Python 3.8.8 64-bit ('base': conda)",
   "language": "python",
   "name": "python388jvsc74a57bd0207c0d44758c6669a77097a940d54e0c958e1873e8368d84e343a511989e3c6f"
  },
  "language_info": {
   "codemirror_mode": {
    "name": "ipython",
    "version": 3
   },
   "file_extension": ".py",
   "mimetype": "text/x-python",
   "name": "python",
   "nbconvert_exporter": "python",
   "pygments_lexer": "ipython3",
   "version": "3.8.8"
  }
 },
 "nbformat": 4,
 "nbformat_minor": 5
}

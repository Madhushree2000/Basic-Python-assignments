{
 "cells": [
  {
   "cell_type": "code",
   "execution_count": 1,
   "metadata": {},
   "outputs": [],
   "source": [
    "import numpy as np \n",
    "import pandas as pd \n",
    "import matplotlib.pyplot as plt \n",
    "from sklearn import metrics\n",
    "from sklearn.naive_bayes import GaussianNB\n",
    "from sklearn.model_selection import train_test_split"
   ]
  },
  {
   "cell_type": "code",
   "execution_count": 2,
   "metadata": {},
   "outputs": [],
   "source": [
    "accuracy = []\n",
    "def naives_bayes_classification(df):\n",
    "\n",
    "    x = df.iloc[:,1:5]\n",
    "    y = df.iloc[:,0]\n",
    "\n",
    "    x_train, x_test, y_train, y_test = train_test_split(x,y,test_size = 0.4, random_state = 1)\n",
    "\n",
    "    nb = GaussianNB()\n",
    "    nb.fit(x_train, y_train)\n",
    "\n",
    "    y_pred = nb.predict(x_test)\n",
    "\n",
    "    acc = metrics.accuracy_score(y_test, y_pred)\n",
    "    accuracy.append(acc)\n",
    "\n",
    "    \n",
    "    \n"
   ]
  },
  {
   "cell_type": "code",
   "execution_count": 3,
   "metadata": {},
   "outputs": [
    {
     "name": "stdout",
     "output_type": "stream",
     "text": [
      "[0.95, 0.5387205387205387, 0.5789473684210527, 0.8591549295774648]\n"
     ]
    }
   ],
   "source": [
    "iris = pd.read_csv('iris.csv')\n",
    "naives_bayes_classification(iris)\n",
    "\n",
    "yeast = pd.read_csv('yeast.csv')\n",
    "naives_bayes_classification(yeast)\n",
    "\n",
    "soybean = pd.read_csv('soybean.csv')\n",
    "naives_bayes_classification(soybean)\n",
    "\n",
    "wine = pd.read_csv('wine.csv')\n",
    "naives_bayes_classification(wine)\n",
    "\n",
    "print(accuracy)\n"
   ]
  },
  {
   "cell_type": "code",
   "execution_count": 6,
   "metadata": {},
   "outputs": [
    {
     "data": {
      "text/plain": [
       "<BarContainer object of 4 artists>"
      ]
     },
     "execution_count": 6,
     "metadata": {},
     "output_type": "execute_result"
    },
    {
     "data": {
      "image/png": "[encoded data removed]",
      "text/plain": [
       "<Figure size 432x288 with 1 Axes>"
      ]
     },
     "metadata": {
      "needs_background": "light"
     },
     "output_type": "display_data"
    }
   ],
   "source": [
    "alist = ['iris', 'yeast',  'soybean', 'wine']\n",
    "plt.bar (alist,accuracy, width=0.4)\n"
   ]
  },
  {
   "cell_type": "code",
   "execution_count": null,
   "metadata": {},
   "outputs": [],
   "source": []
  }
 ],
 "metadata": {
  "interpreter": {
   "hash": "207c0d44758c6669a77097a940d54e0c958e1873e8368d84e343a511989e3c6f"
  },
  "kernelspec": {
   "display_name": "Python 3 (ipykernel)",
   "language": "python",
   "name": "python3"
  },
  "language_info": {
   "codemirror_mode": {
    "name": "ipython",
    "version": 3
   },
   "file_extension": ".py",
   "mimetype": "text/x-python",
   "name": "python",
   "nbconvert_exporter": "python",
   "pygments_lexer": "ipython3",
   "version": "3.8.8"
  }
 },
 "nbformat": 4,
 "nbformat_minor": 2
}

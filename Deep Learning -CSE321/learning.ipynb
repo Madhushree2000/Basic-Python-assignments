{
 "cells": [
  {
   "cell_type": "markdown",
   "metadata": {},
   "source": [
    "# Single Neuron "
   ]
  },
  {
   "cell_type": "code",
   "execution_count": 1,
   "metadata": {},
   "outputs": [],
   "source": [
    "import pandas as pd\n",
    "from numpy import *\n",
    "import matplotlib.pyplot as plt"
   ]
  },
  {
   "cell_type": "code",
   "execution_count": 2,
   "metadata": {},
   "outputs": [],
   "source": [
    "def log_sig(net):\n",
    "    e = 1 + exp(-net)\n",
    "    return(1/e)"
   ]
  },
  {
   "cell_type": "code",
   "execution_count": 3,
   "metadata": {},
   "outputs": [],
   "source": [
    "def hard_lim(net):\n",
    "    if(net >= 0):\n",
    "        return 1\n",
    "    else:\n",
    "        return 0"
   ]
  },
  {
   "cell_type": "code",
   "execution_count": 4,
   "metadata": {},
   "outputs": [],
   "source": [
    "def hyp_tan(net):\n",
    "    e1 = exp(net) + exp(-net)\n",
    "    e2 = exp(net) - exp(-net)\n",
    "    return(e2/e1)"
   ]
  },
  {
   "cell_type": "code",
   "execution_count": null,
   "metadata": {},
   "outputs": [],
   "source": [
    "def hebb_update(x,y,w,b):\n",
    "    w = w + x * y\n",
    "    b = b + y\n"
   ]
  },
  {
   "cell_type": "code",
   "execution_count": null,
   "metadata": {},
   "outputs": [],
   "source": [
    "def single_neuron(x,w,b,a,learning):\n",
    "\n",
    "    # cal net value\n",
    "    net = dot(x,w.T) + b\n",
    "\n",
    "    # activation function\n",
    "    if(a == 1):\n",
    "        ao = log_sig(net)\n",
    "    elif(a == 2):\n",
    "        ao = hard_lim(net)\n",
    "    elif(a == 3):\n",
    "        ao = hyp_tan(net)\n",
    "    elif(a == 5):\n",
    "        ao = net\n",
    "\n",
    "    # updation of weight and bias\n",
    "    if(learning == 0):\n",
    "        w,b = w,b\n",
    "    elif(learning == 1):\n",
    "        w,b = hebb_update(x,w,b)\n",
    "\n"
   ]
  },
  {
   "cell_type": "code",
   "execution_count": null,
   "metadata": {},
   "outputs": [],
   "source": []
  }
 ],
 "metadata": {
  "interpreter": {
   "hash": "207c0d44758c6669a77097a940d54e0c958e1873e8368d84e343a511989e3c6f"
  },
  "kernelspec": {
   "display_name": "Python 3.8.8 ('base')",
   "language": "python",
   "name": "python3"
  },
  "language_info": {
   "codemirror_mode": {
    "name": "ipython",
    "version": 3
   },
   "file_extension": ".py",
   "mimetype": "text/x-python",
   "name": "python",
   "nbconvert_exporter": "python",
   "pygments_lexer": "ipython3",
   "version": "3.8.8"
  },
  "orig_nbformat": 4
 },
 "nbformat": 4,
 "nbformat_minor": 2
}

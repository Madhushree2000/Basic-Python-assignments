{
 "cells": [
  {
   "cell_type": "code",
   "execution_count": 41,
   "metadata": {},
   "outputs": [],
   "source": [
    "import matplotlib.pyplot as plt\n",
    "from numpy import *"
   ]
  },
  {
   "cell_type": "code",
   "execution_count": 42,
   "metadata": {},
   "outputs": [],
   "source": [
    "def logsig(net):\n",
    "    l = 1 + exp(-net)\n",
    "    return(1/l)"
   ]
  },
  {
   "cell_type": "code",
   "execution_count": 43,
   "metadata": {},
   "outputs": [],
   "source": [
    "def purelin(net):\n",
    "    return(net)"
   ]
  },
  {
   "cell_type": "code",
   "execution_count": 51,
   "metadata": {},
   "outputs": [],
   "source": [
    "def neuron(p,w,b):\n",
    "    w = array(w)\n",
    "    net = dot(p,w.T) + b\n",
    "    return(net)"
   ]
  },
  {
   "cell_type": "code",
   "execution_count": 45,
   "metadata": {},
   "outputs": [],
   "source": [
    "def update(w,b,alpha,s,a):\n",
    "    w = w - alpha * s * a.T\n",
    "    b = b - alpha * s\n",
    "    return(w,b)"
   ]
  },
  {
   "cell_type": "code",
   "execution_count": 46,
   "metadata": {},
   "outputs": [],
   "source": [
    "def derlogsig(n):\n",
    "    ans = -exp(-n) / (1 + exp(-n)**2)\n",
    "    return ans"
   ]
  },
  {
   "cell_type": "code",
   "execution_count": 56,
   "metadata": {},
   "outputs": [],
   "source": [
    "w = array([0,0],[0,0])\n",
    "b = array([0,0])\n",
    "t = array([0,1,0,1])\n",
    "p = [[2,2],[1,-2],[-2,2],[-1,1]]\n",
    "error = []\n",
    "w2 = array([0])\n",
    "b2 = array([0])"
   ]
  },
  {
   "cell_type": "code",
   "execution_count": 63,
   "metadata": {},
   "outputs": [],
   "source": [
    "#epoch\n",
    "for i in range(len(p)):\n",
    "    for j in range(10):\n",
    "        net1 = neuron(p[i],w,b)\n",
    "        a1 = logsig(net1)\n",
    "        net2= neuron(a1,w2,b)\n",
    "        a2 = purelin(net2)\n",
    "\n",
    "        e = t[i] * 1 - a2\n",
    "        s2 = -2 * 1 * e\n",
    "        d_a1 = derlogsig(a1)\n",
    "        s1 = diag(d_a1) * w2.T * s2\n",
    "        w,b = update(w,b,0.1,s1,a1)\n",
    "        w2,b2 = update(w2,b2,0.1,s2,a2)\n",
    "        error = error + [e]\n",
    "        "
   ]
  },
  {
   "cell_type": "code",
   "execution_count": 64,
   "metadata": {},
   "outputs": [
    {
     "data": {
      "text/plain": [
       "[array([0.]),\n",
       " array([[1.]]),\n",
       " array([[0.]]),\n",
       " array([[1.]]),\n",
       " array([[0.]]),\n",
       " array([[1.]]),\n",
       " array([[0.]]),\n",
       " array([[1.]]),\n",
       " array([[0.]]),\n",
       " array([[1.]]),\n",
       " array([[0.]]),\n",
       " array([[1.]]),\n",
       " array([[0.]]),\n",
       " array([[1.]]),\n",
       " array([[0.]]),\n",
       " array([[1.]]),\n",
       " array([[0.]]),\n",
       " array([[1.]]),\n",
       " array([[0.]]),\n",
       " array([[1.]]),\n",
       " array([[0.]]),\n",
       " array([[1.]]),\n",
       " array([[0.]]),\n",
       " array([[1.]]),\n",
       " array([[0.]]),\n",
       " array([[1.]]),\n",
       " array([[0.]]),\n",
       " array([[1.]]),\n",
       " array([[0.]]),\n",
       " array([[1.]]),\n",
       " array([[0.]]),\n",
       " array([[1.]]),\n",
       " array([[0.]]),\n",
       " array([[1.]]),\n",
       " array([[0.]]),\n",
       " array([[1.]]),\n",
       " array([[0.]]),\n",
       " array([[1.]]),\n",
       " array([[0.]]),\n",
       " array([[1.]]),\n",
       " array([[0.]]),\n",
       " array([[1.]]),\n",
       " array([[0.]]),\n",
       " array([[1.]]),\n",
       " array([[0.]]),\n",
       " array([[1.]]),\n",
       " array([[0.]]),\n",
       " array([[1.]]),\n",
       " array([[0.]]),\n",
       " array([[1.]]),\n",
       " array([[0.]]),\n",
       " array([[1.]]),\n",
       " array([[0.]]),\n",
       " array([[1.]]),\n",
       " array([[0.]]),\n",
       " array([[1.]]),\n",
       " array([[0.]]),\n",
       " array([[1.]]),\n",
       " array([[0.]]),\n",
       " array([[1.]]),\n",
       " array([[0.]]),\n",
       " array([[1.]]),\n",
       " array([[0.]]),\n",
       " array([[1.]]),\n",
       " array([[0.]]),\n",
       " array([[1.]]),\n",
       " array([[0.]]),\n",
       " array([[1.]]),\n",
       " array([[0.]]),\n",
       " array([[1.]]),\n",
       " array([[0.]]),\n",
       " array([[1.]]),\n",
       " array([[0.]]),\n",
       " array([[1.]]),\n",
       " array([[0.]]),\n",
       " array([[1.]]),\n",
       " array([[0.]]),\n",
       " array([[1.]]),\n",
       " array([[0.]]),\n",
       " array([[1.]]),\n",
       " array([[0.]]),\n",
       " array([[1.]]),\n",
       " array([[0.]]),\n",
       " array([[1.]]),\n",
       " array([[0.]]),\n",
       " array([[1.]]),\n",
       " array([[0.]]),\n",
       " array([[1.]]),\n",
       " array([[0.]]),\n",
       " array([[1.]]),\n",
       " array([[0.]]),\n",
       " array([[1.]]),\n",
       " array([[0.]]),\n",
       " array([[1.]]),\n",
       " array([[0.]]),\n",
       " array([[1.]]),\n",
       " array([[0.]]),\n",
       " array([[1.]]),\n",
       " array([[0.]]),\n",
       " array([[1.]]),\n",
       " array([[0.]]),\n",
       " array([[1.]]),\n",
       " array([[0.]]),\n",
       " array([[1.]]),\n",
       " array([[0.]]),\n",
       " array([[1.]]),\n",
       " array([[0.]]),\n",
       " array([[1.]]),\n",
       " array([[0.]]),\n",
       " array([[1.]]),\n",
       " array([[0.]]),\n",
       " array([[1.]]),\n",
       " array([[0.]]),\n",
       " array([[1.]]),\n",
       " array([[0.]]),\n",
       " array([[1.]]),\n",
       " array([[0.]]),\n",
       " array([[1.]]),\n",
       " array([[0.]]),\n",
       " array([[1.]]),\n",
       " array([[0.]]),\n",
       " array([[0.]]),\n",
       " array([[0.]]),\n",
       " array([[0.]]),\n",
       " array([[0.]]),\n",
       " array([[0.]]),\n",
       " array([[0.]]),\n",
       " array([[0.]]),\n",
       " array([[0.]]),\n",
       " array([[0.]]),\n",
       " array([[1.]]),\n",
       " array([[1.]]),\n",
       " array([[1.]]),\n",
       " array([[1.]]),\n",
       " array([[1.]]),\n",
       " array([[1.]]),\n",
       " array([[1.]]),\n",
       " array([[1.]]),\n",
       " array([[1.]]),\n",
       " array([[1.]]),\n",
       " array([[0.]]),\n",
       " array([[0.]]),\n",
       " array([[0.]]),\n",
       " array([[0.]]),\n",
       " array([[0.]]),\n",
       " array([[0.]]),\n",
       " array([[0.]]),\n",
       " array([[0.]]),\n",
       " array([[0.]]),\n",
       " array([[0.]]),\n",
       " array([[1.]]),\n",
       " array([[1.]]),\n",
       " array([[1.]]),\n",
       " array([[1.]]),\n",
       " array([[1.]]),\n",
       " array([[1.]]),\n",
       " array([[1.]]),\n",
       " array([[1.]]),\n",
       " array([[1.]]),\n",
       " array([[1.]])]"
      ]
     },
     "execution_count": 64,
     "metadata": {},
     "output_type": "execute_result"
    }
   ],
   "source": [
    "error"
   ]
  },
  {
   "cell_type": "code",
   "execution_count": 65,
   "metadata": {},
   "outputs": [],
   "source": [
    "mse_list = []\n",
    "for i in error:\n",
    "    se = dot(i,i.T)\n",
    "    mse = se/ len(i)\n",
    "    mse_list.append(mse)"
   ]
  },
  {
   "cell_type": "code",
   "execution_count": 66,
   "metadata": {},
   "outputs": [
    {
     "name": "stderr",
     "output_type": "stream",
     "text": [
      "/Users/madhushreesannigrahi/opt/anaconda3/lib/python3.8/site-packages/numpy/core/_asarray.py:171: VisibleDeprecationWarning: Creating an ndarray from ragged nested sequences (which is a list-or-tuple of lists-or-tuples-or ndarrays with different lengths or shapes) is deprecated. If you meant to do this, you must specify 'dtype=object' when creating the ndarray.\n",
      "  return array(a, dtype, copy=False, order=order, subok=True)\n"
     ]
    },
    {
     "data": {
      "image/png": "[encoded data removed]",
      "text/plain": [
       "<Figure size 432x288 with 1 Axes>"
      ]
     },
     "metadata": {
      "needs_background": "light"
     },
     "output_type": "display_data"
    }
   ],
   "source": [
    "plt.plot(mse_list, 'r.-')\n",
    "plt.grid(True)\n",
    "plt.xlabel('epoch')\n",
    "plt.ylabel('Error')\n",
    "plt.draw()\n",
    "plt.show()"
   ]
  },
  {
   "cell_type": "code",
   "execution_count": null,
   "metadata": {},
   "outputs": [],
   "source": []
  }
 ],
 "metadata": {
  "interpreter": {
   "hash": "207c0d44758c6669a77097a940d54e0c958e1873e8368d84e343a511989e3c6f"
  },
  "kernelspec": {
   "display_name": "Python 3.8.8 ('base')",
   "language": "python",
   "name": "python3"
  },
  "language_info": {
   "codemirror_mode": {
    "name": "ipython",
    "version": 3
   },
   "file_extension": ".py",
   "mimetype": "text/x-python",
   "name": "python",
   "nbconvert_exporter": "python",
   "pygments_lexer": "ipython3",
   "version": "3.8.8"
  },
  "orig_nbformat": 4
 },
 "nbformat": 4,
 "nbformat_minor": 2
}
